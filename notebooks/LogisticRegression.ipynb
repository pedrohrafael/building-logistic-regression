{
 "cells": [
  {
   "cell_type": "markdown",
   "id": "afdc43b8-9afe-4f9e-8d9c-e66a60381956",
   "metadata": {
    "tags": []
   },
   "source": [
    "# Regressão Logistica do Zero"
   ]
  },
  {
   "cell_type": "markdown",
   "id": "61b6cc5f-d01d-4b4e-bf60-f7e818ad2e87",
   "metadata": {},
   "source": [
    "<p align=\"center\"> \n",
    " <img src=\"https://raw.githubusercontent.com/pedrohrafael/pedrohrafael/main/img/logistic-regression.png\" alt=\"MarineGEO circle logo\" style=\"height:65%; width:65%;\"/>\n",
    "</p>"
   ]
  },
  {
   "cell_type": "markdown",
   "id": "6d315de8-80f7-4921-8201-01e9c695e999",
   "metadata": {},
   "source": [
    "## Objetivo"
   ]
  },
  {
   "cell_type": "markdown",
   "id": "1b168ccf-6557-4260-9728-ccaa641a9e1a",
   "metadata": {},
   "source": [
    "Demonstrando a construção da [Regressão Logistica](https://pt.wikipedia.org/wiki/Regress%C3%A3o_log%C3%ADstica), sendo este um algoritmo aplicado a problemas de classificação. \n",
    "\n",
    "As bases principais utilizadas para definir os cálculos das funções do algoritmo são:\n",
    "- [CS229 Lecture Notes](https://cs229.stanford.edu/lectures-spring2022/main_notes.pdf) por [Andrew Ng](https://www.andrewng.org/).\n",
    "- [Probability for Machine Learning - Discover How To Harness Uncertainty With Python](https://dokumen.pub/probability-for-machine-learning-discover-how-to-harness-uncertainty-with-python-v19nbsped.html) por Jason Brownlee\n",
    "- [Machine Learning - A Probabilistic Perspective](http://noiselab.ucsd.edu/ECE228/Murphy_Machine_Learning.pdf) por Kevin P. Murphy"
   ]
  },
  {
   "cell_type": "markdown",
   "id": "56539b45-0d54-4e7b-891c-b8c8982c266e",
   "metadata": {
    "tags": []
   },
   "source": [
    "## Construindo o algoritmo"
   ]
  },
  {
   "cell_type": "markdown",
   "id": "316d9bbc-5c4f-4f76-bdd0-9da24678062d",
   "metadata": {},
   "source": [
    "A __regressão logística__ pode ser usada para vários problemas de classificação binária, como detecção de spam, previsão de diabetes, se cliente vai comprar um produto ou vai deixar de ser um cliente, etc. Se trata de um __algoritmo linear__, assim como a [regressão linear](https://pt.wikipedia.org/wiki/Regress%C3%A3o_linear), porém suas saídas são probabilidades dos eventos acontecerem, sendo essas probabilidades transformadas em valores geralmente binários (0 ou 1). \n",
    "\n",
    "Para construir o algoritmo da regressão logistica será necessário definir parametros de iniciais, uma __função de custo__ e uma __função de otimização__ que irá de for iterativa, atualizar os parametros até a convergencia. O algoritmo usa da __função logística sigmoide__ para modelar a probabilidade dos eventos estimados."
   ]
  },
  {
   "cell_type": "markdown",
   "id": "05fd607d-6b9b-44f4-86b5-2c45193a2522",
   "metadata": {
    "tags": []
   },
   "source": [
    "### __Sigmoide__"
   ]
  },
  {
   "cell_type": "markdown",
   "id": "abcd2fe3-4249-4e3e-95aa-5bb4f10e95d6",
   "metadata": {},
   "source": [
    "[Sigmoid](https://pt.wikipedia.org/wiki/Fun%C3%A7%C3%A3o_log%C3%ADstica) é uma função matemática que transforma qualquer número real em uma probabilidade entre 0 e 1. Graficamente, a sigmoide representa uma curva em forma de S, indicando que quanto mais `z` se aproxima de infinito positivo, mais o valor previsto se aproxima de 1 e quanto mais `z` se aproximar ao infinito negativo, mais o valor previsto será aproximado de 0.\n",
    "\n",
    "A função logistica é definida como:\n",
    "\n",
    "$$\\sigma(z)=\\frac{1}{1+e^{-z}}$$\n",
    "\n",
    "Representada graficamente:\n",
    "\n",
    "<p style=\"text-align:center;\"><img src=\"https://ml-cheatsheet.readthedocs.io/en/latest/_images/sigmoid.png\" alt=\"drawing\" style=\"width:250px;\"/></p>\n",
    "\n",
    "Onde:\n",
    "- __σ(z)__ = Estimativa de probabilidade (p), sendo uma saída entre 0 e 1\n",
    "- __z__ = Entrada para a função (estimativa do algoritmo, por exemplo βx+α)\n",
    "- __e__ = [Número de Euler](https://pt.wikipedia.org/wiki/E_(constante_matem%C3%A1tica)\\), base dos logaritmos naturais\n",
    "\n",
    "Como __limite de decisão__ para mapear as probabilidades (p) em classes discretas binárias (0 ou 1) consideramos o valor de __0.5__, conforme a regra abaixo:\n",
    "\n",
    "$$\n",
    "p ≥ 0.5, classe=1 \\\\\n",
    "p < 0.5, classe=0\n",
    "$$"
   ]
  },
  {
   "cell_type": "code",
   "execution_count": 1,
   "id": "f1138ad4-b7e1-499e-b0a9-270837fef468",
   "metadata": {},
   "outputs": [],
   "source": [
    "# Definindo a função sigmoide em python\n",
    "import numpy as np\n",
    "\n",
    "def sigmoid(x):\n",
    "    return 1 / (1 + np.exp(-x))"
   ]
  },
  {
   "cell_type": "markdown",
   "id": "a2a4ae11-fa22-43cb-ac1f-43e57bd859cd",
   "metadata": {},
   "source": [
    "### __Função de custo/perda__"
   ]
  },
  {
   "cell_type": "markdown",
   "id": "71123766-6a62-4b0f-8bd0-7e6fd965d847",
   "metadata": {},
   "source": [
    "As funções de perda são usadas para determinar o custo (também conhecido como \"erro\") entre a saída do algoritmo `ŷ` e o valor alvo real `y`, ou seja, a função de perda gera uma métrica que indica o quão longe as estimativas geradas estão dos valores reais. Como o objetivo é ser o mais assertivo quanto possível, é necessário reduzir os custos gradativamente e isso é possível ser feito utilizando uma função de otimização.\n",
    "\n",
    "Apesar de a Regressão Logistica ser um algoritmo linear, não devemos utilizar a mesma função de custo [MSE](https://en.wikipedia.org/wiki/Mean_squared_error) (Mean Squared Error) que usamos para a Regressão Linear. Pulando a parte explicativa matemática¹, de maneira resumida o motivo de não usar a MSE para regressão logistica é que a função de previsão é não linear, devido à transformação sigmóide, e por isso é utilizada uma função de custo mais adequada, a __Entropia Cruzada binária__ ou __Log Loss__, que é dada pela função abaixo:\n",
    "\n",
    "$$ J(\\theta) = -\\frac{1}{m}\\sum_{n=1}^m[y^{(i)}log(\\hat{y}^{(i)})+(1-y^{(i)})log(1-\\hat{y}^{(i)})]$$\n",
    "\n",
    "[1] [Probability for Machine Learning - Discover How To Harness Uncertainty With Python, página 102](https://dokumen.pub/probability-for-machine-learning-discover-how-to-harness-uncertainty-with-python-v19nbsped.html)"
   ]
  },
  {
   "cell_type": "code",
   "execution_count": 2,
   "id": "ff964023-3c48-4d62-bdce-174a2fc517de",
   "metadata": {},
   "outputs": [],
   "source": [
    "# Definindo a função de custo em python\n",
    "def log_loss(y, yhat):\n",
    "    m = len(y)\n",
    "    loss = (-1 / m) * np.sum((y.T.dot(np.log(yhat))) + ((1 - y).T.dot(np.log(1 - yhat))))\n",
    "    return loss"
   ]
  },
  {
   "cell_type": "markdown",
   "id": "cb49ffeb-52c8-4c12-a289-38278bfbf7ca",
   "metadata": {
    "tags": []
   },
   "source": [
    "### Função de otimização"
   ]
  },
  {
   "cell_type": "markdown",
   "id": "3c8710b3-bf27-4add-b39c-fbcf233220a3",
   "metadata": {},
   "source": [
    "Como o objetivo é minimizar a função de custo, será necessário ajustar os parametros (pesos) até alcançar a convergencia. Esta otimização dos parametros pode ser obtida através da derivada da função de custo em relação a cada peso. Como função de otimização, será aplicado o __gradiente descendente__ (descida do gradiente).\n",
    "\n",
    "Os gradientes são o vetor da derivada de 1ª ordem da função custo. \n",
    "Ao diferenciar a função de custo, temos a expressão do gradiente que é dado por:\n",
    "\n",
    "$$\\frac{\\partial}{\\partial \\theta_j} J(\\theta) = \\frac{1}{m}\\sum_{i=1}^m(\\hat{y}^{(i)}-y^{(i)})x_j^{(i)}$$\n",
    "\n",
    "Para ajustar o parâmetro __θ__:\n",
    "\n",
    "$$ \\theta_j^{new}=\\theta_j^{old}-\\alpha\\frac{1}{m}\\sum_{i=1}^m(\\hat{y}^{(i)}-y^{(i)})x_j^{(i)}$$\n",
    "\n",
    "Onde __α__ é a taxa de aprendizado (learning rate).\n",
    "\n",
    "Para mais detalhes sobre a derivação da função de custo da regressão logistica, indico o artigo [The Derivative of Cost Function for Logistic Regression](https://medium.com/analytics-vidhya/derivative-of-log-loss-function-for-logistic-regression-9b832f025c2d)"
   ]
  },
  {
   "cell_type": "code",
   "execution_count": 3,
   "id": "3878db2f-628a-4b3a-932a-d35347e7770f",
   "metadata": {},
   "outputs": [],
   "source": [
    "# Definindo função de otimização em python\n",
    "def gradient_descent(X, y, theta, yhat, learning_rate):  \n",
    "    m = len(y)\n",
    "    theta -= learning_rate * ((1 / m) * (np.dot(X.T, (yhat - y))))\n",
    "    return theta"
   ]
  },
  {
   "cell_type": "markdown",
   "id": "3cb68fa6-0976-45cc-aec9-a5f06f876b07",
   "metadata": {},
   "source": [
    "---"
   ]
  },
  {
   "cell_type": "markdown",
   "id": "ebbdc7af-0bad-4296-b762-5379e95a3570",
   "metadata": {
    "tags": []
   },
   "source": [
    "### Regressão Logistica"
   ]
  },
  {
   "cell_type": "markdown",
   "id": "44583211-7060-46a1-a9ab-9c0181f633f0",
   "metadata": {},
   "source": [
    "Para melhor a aplicação das funções, vou reescreve-las utilizando programação orientada a objetos para criar uma classe que irá representar o algoritmo."
   ]
  },
  {
   "cell_type": "code",
   "execution_count": 5,
   "id": "7aab52c6-3df8-41b0-a6a9-7f7a1ffe375d",
   "metadata": {},
   "outputs": [],
   "source": [
    "class LogisticRegression:\n",
    "    \"\"\"\n",
    "    Classificador de regressão logística.\n",
    "    Parametros\n",
    "    ----------\n",
    "    n_iterations: int, default=500\n",
    "        Número máximo de iterações para convergir.\n",
    "    learning_rate float, default=0.01\n",
    "        Taxa de aprendizado.\n",
    "    ----------\n",
    "    \"\"\"\n",
    "    # Inicializando a função com os parametros learning_rate e n_iterations\n",
    "    def __init__(self, learning_rate=0.01, n_iterations=500):\n",
    "        self.learning_rate = learning_rate\n",
    "        self.n_iterations = n_iterations\n",
    "    \n",
    "    # Implementando a função logistica\n",
    "    def __sigmoid(self, z):\n",
    "        np.seterr(all='ignore')\n",
    "        return 1 / (1 + np.exp(-z))\n",
    "    \n",
    "    # Implementando a função de custo: Entropia Cruzada Binária/Log Loss\n",
    "    def __log_loss(self, y, yhat):\n",
    "        logloss = (-1 / self.__m) * np.sum(y.T.dot(np.log(yhat)) + (1 - y).T.dot(np.log(1 - yhat)))\n",
    "        return logloss\n",
    "    \n",
    "    # Implementando a função de otimização: Gradiente Descendente\n",
    "    def __gradient_descent(self, X, y, yhat, theta):\n",
    "        theta -= self.learning_rate * (1 / self.__m * X.T.dot((yhat - y)))\n",
    "        return theta\n",
    "    \n",
    "    # Definindo a função de ajuste do modelo: processo de treinamento\n",
    "    def fit(self, X, y, class_weight=None):\n",
    "        \"\"\"\n",
    "        Ajuste o modelo de acordo com os dados de treinamento fornecidos.\n",
    "        \"\"\"\n",
    "        self.classes_ = np.unique(y)\n",
    "        self.__m = np.float64(X.shape[0])\n",
    "        self.losses = list()\n",
    "        theta = np.zeros((X.shape[1]))\n",
    "        for _ in range(self.n_iterations):\n",
    "            z = np.dot(X, theta)\n",
    "            yhat = self.__sigmoid(z)\n",
    "            loss = self.__log_loss(y, yhat)\n",
    "            theta = self.__gradient_descent(X, y, yhat, theta)\n",
    "            self.losses.append(loss)\n",
    "        self.theta = theta\n",
    "    \n",
    "    # Definindo a função de estimador do modelo\n",
    "    def predict(self, X):\n",
    "        \"\"\"\n",
    "        Prever rótulos de classe para amostras em X.\n",
    "        \"\"\"\n",
    "        z = np.dot(X, self.theta)\n",
    "        proba = self.__sigmoid(z)\n",
    "        return np.asarray([1 if p > 0.5 else 0 for p in proba])"
   ]
  },
  {
   "cell_type": "markdown",
   "id": "be876e33-0600-4bb7-af3a-b41a0227a33f",
   "metadata": {},
   "source": [
    "O código acima está disponível em [../src/LogisticRegression.py](https://github.com/pedrohrafael/data-science/blob/main/building-logistic-regression/src/LogisticRegression.py)"
   ]
  },
  {
   "cell_type": "markdown",
   "id": "5bb17f18-cd91-41d5-8a7c-1e5b26dbb4ba",
   "metadata": {
    "tags": []
   },
   "source": [
    "#### Treinando o modelo com valores gerados por `make_classification` do sklearn para demonstrar a convergencia do modelo."
   ]
  },
  {
   "cell_type": "code",
   "execution_count": 117,
   "id": "0ffecccc-7742-4f19-9e0b-a954c1c57a4b",
   "metadata": {
    "tags": []
   },
   "outputs": [
    {
     "data": {
      "image/png": "[encoded data removed]",
      "text/plain": [
       "<Figure size 640x480 with 1 Axes>"
      ]
     },
     "metadata": {},
     "output_type": "display_data"
    }
   ],
   "source": [
    "from sklearn.datasets import make_classification\n",
    "from sklearn.model_selection import train_test_split\n",
    "from sklearn.metrics import accuracy_score\n",
    "import matplotlib.pyplot as plt\n",
    "\n",
    "# gerando dados\n",
    "X, y = make_classification(n_samples=2000, n_features=4, random_state=42)\n",
    "\n",
    "# split dos dados\n",
    "X_train, X_test, y_train, y_test = train_test_split(X, y, test_size=0.33, random_state=42)\n",
    "\n",
    "# ajuste do modelo e previsao\n",
    "n_iterations = 3000\n",
    "lr = LogisticRegression(n_iterations=n_iterations)\n",
    "lr.fit(X_train, y_train)\n",
    "y_pred = lr.predict(X_test)\n",
    "\n",
    "# Redução da perda por iterações e acuracia do modelo\n",
    "plt.plot(lr.losses);\n",
    "plt.title(\"Loss throughout {} iterations | Accuracy: {}\".format(n_iterations, accuracy_score(y_test, y_pred).round(4)));"
   ]
  }
 ],
 "metadata": {
  "kernelspec": {
   "display_name": "Python 3 (ipykernel)",
   "language": "python",
   "name": "python3"
  },
  "language_info": {
   "codemirror_mode": {
    "name": "ipython",
    "version": 3
   },
   "file_extension": ".py",
   "mimetype": "text/x-python",
   "name": "python",
   "nbconvert_exporter": "python",
   "pygments_lexer": "ipython3",
   "version": "3.10.9"
  }
 },
 "nbformat": 4,
 "nbformat_minor": 5
}
